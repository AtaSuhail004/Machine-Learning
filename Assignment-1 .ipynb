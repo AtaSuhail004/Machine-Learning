{
 "cells": [
  {
   "cell_type": "code",
   "execution_count": 1,
   "metadata": {},
   "outputs": [
    {
     "name": "stdout",
     "output_type": "stream",
     "text": [
      "2030,2065,2100,2135,2170,2205,2240,2275,2310,2345,2380,2415,2450,2485,2520,2555,2590,2625,2660,2695,2730,2765,2800,2835,2870,2905,2940,2975,3010,3045,3080,3115,3150,3185,"
     ]
    }
   ],
   "source": [
    "\n",
    "# 1. Write a program which will find all such numbers which are divisible by 7 but are not amultiple of 5, between 2000 and 3200 (both included). The numbers obtained should be printed\n",
    "#in a comma-separated sequence on a single line.\n",
    "\n",
    "\n",
    "for i in range (2000,3201):\n",
    "    if i%7==0 and i%5==0:\n",
    "        print(i, end=',')\n",
    "        \n",
    "\n"
   ]
  },
  {
   "cell_type": "code",
   "execution_count": null,
   "metadata": {},
   "outputs": [],
   "source": [
    "#2. Write a Python program to accept the user's first and last name and then getting them \n",
    "#printed in the the reverse order with a space between first name and last name.\n",
    "        \n",
    "Firstname = input(\"Please enter your first name: \")\n",
    "Lastname = input(\"Please enter your Last name: \")\n",
    "print(\"Your Full Name:\", Lastname,  Firstname )\n",
    "\n",
    "\n"
   ]
  },
  {
   "cell_type": "code",
   "execution_count": null,
   "metadata": {},
   "outputs": [],
   "source": []
  },
  {
   "cell_type": "code",
   "execution_count": null,
   "metadata": {},
   "outputs": [],
   "source": [
    "#3. Write a Python program to find the volume of a sphere with diameter 12 cm.\n",
    "#Formula: V=4/3 * π * r 3\n",
    "\n",
    "π=3.141\n",
    "d =12\n",
    "r = d/2\n",
    "VolumeofaSphere =  4/3 * π * r**3\n",
    "\n",
    "print(VolumeofaSphere)"
   ]
  },
  {
   "cell_type": "markdown",
   "metadata": {},
   "source": [
    "4. Write a program which accepts a sequence of comma-separated numbers from console and generate a list"
   ]
  },
  {
   "cell_type": "code",
   "execution_count": null,
   "metadata": {},
   "outputs": [],
   "source": [
    "Numbers = (1,2,3,4,5,6,7,8)\n",
    "List =[]\n",
    "\n",
    "for i in Numbers:\n",
    "    List.append(i)\n",
    "    \n",
    "List\n"
   ]
  },
  {
   "cell_type": "markdown",
   "metadata": {},
   "source": [
    "5. Create the below pattern using nested for loop in Python."
   ]
  },
  {
   "cell_type": "code",
   "execution_count": null,
   "metadata": {},
   "outputs": [],
   "source": [
    "rows=5\n",
    "for i in range(0,rows):\n",
    "    for j in range(0,i+1):\n",
    "        print(\"*\", end=\" \")\n",
    "    print('\\n')\n",
    "    \n",
    "for i in range(rows,0,-1):\n",
    "    for j in range(0,i-1):\n",
    "        print(\"*\", end=\" \")\n",
    "    print('\\n')"
   ]
  },
  {
   "cell_type": "markdown",
   "metadata": {},
   "source": [
    "6. Write a Python program to reverse a word after accepting the input from the user."
   ]
  },
  {
   "cell_type": "code",
   "execution_count": null,
   "metadata": {},
   "outputs": [],
   "source": [
    "Word=input(str(\"Please Enter a Word: \"))\n",
    "\n",
    "Reverse=Word[::-1]\n",
    "\n",
    "Reverse\n"
   ]
  },
  {
   "cell_type": "markdown",
   "metadata": {},
   "source": [
    "7.Write a Python Program to print the given string in the format specified in the sample output.\n",
    "WE, THE PEOPLE OF INDIA, having solemnly resolved to constitute India into a\n",
    "SOVEREIGN, SOCIALIST, SECULAR, DEMOCRATIC REPUBLIC and to secure to all\n",
    "its citizens"
   ]
  },
  {
   "cell_type": "code",
   "execution_count": 11,
   "metadata": {},
   "outputs": [
    {
     "name": "stdout",
     "output_type": "stream",
     "text": [
      "WE, THE PEOPLE OF INDIA, \n",
      "       having solemnly resolved to constitute India into a SOVEREIGN,!  \n",
      "              SOCIALIST, SECULAR, DEMOCRATIC REPUBLIC \n",
      "               and to secure to all its citizens\n"
     ]
    }
   ],
   "source": [
    "level1=4\n",
    "level2=12\n",
    "print(\"WE, THE PEOPLE OF INDIA,\" , '\\n', \" \" * level1, \" having solemnly resolved to constitute India into a SOVEREIGN,!\",' \\n', ' ' * level2, \"SOCIALIST, SECULAR, DEMOCRATIC REPUBLIC\",'\\n ',' ' * level2,\"and to secure to all its citizens\")\n",
    "\n"
   ]
  },
  {
   "cell_type": "code",
   "execution_count": null,
   "metadata": {},
   "outputs": [],
   "source": []
  },
  {
   "cell_type": "code",
   "execution_count": null,
   "metadata": {},
   "outputs": [],
   "source": []
  },
  {
   "cell_type": "code",
   "execution_count": null,
   "metadata": {},
   "outputs": [],
   "source": []
  }
 ],
 "metadata": {
  "kernelspec": {
   "display_name": "Python 3",
   "language": "python",
   "name": "python3"
  },
  "language_info": {
   "codemirror_mode": {
    "name": "ipython",
    "version": 3
   },
   "file_extension": ".py",
   "mimetype": "text/x-python",
   "name": "python",
   "nbconvert_exporter": "python",
   "pygments_lexer": "ipython3",
   "version": "3.7.4"
  }
 },
 "nbformat": 4,
 "nbformat_minor": 2
}
